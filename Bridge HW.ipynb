{
 "cells": [
  {
   "cell_type": "markdown",
   "metadata": {},
   "source": [
    "#1: Even-Odd Vending Machine\n",
    "Try writing an “even-odd vending machine,” which will take a number as\n",
    "input and do two things:\n",
    "1. Print whether the number is even or odd.\n",
    "2. Display the number followed by the next 9 even or odd numbers.\n",
    "If the input is 2, the program should print even and then print 2, 4, 6,\n",
    "8, 10, 12, 14, 16, 18, 20. Similarly, if the input is 1, the program should\n",
    "print odd and then print 1, 3, 5, 7, 9, 11, 13, 15, 17, 19.\n",
    "www.it-ebooks.info\n",
    "Working with Numbers 23\n",
    "Your program should use the is_integer() method to display an error\n",
    "message if the input is a number with significant digits beyond the decimal\n",
    "point."
   ]
  },
  {
   "cell_type": "code",
   "execution_count": 156,
   "metadata": {},
   "outputs": [],
   "source": [
    "def even_odd(val):\n",
    "    if val.is_integer():\n",
    "        val_int = int(val)\n",
    "        if val_int % 2 == 0:\n",
    "            print('even')   \n",
    "        else:\n",
    "            print('odd')\n",
    "        [print(i) for i in range(val_int,val_int+2*10,2)]\n",
    "            #print(i)\n",
    "    else:\n",
    "        print('Invalid number input provided due to significant digits')"
   ]
  },
  {
   "cell_type": "code",
   "execution_count": 158,
   "metadata": {},
   "outputs": [
    {
     "name": "stdout",
     "output_type": "stream",
     "text": [
      "please input an integer: 2\n",
      "even\n",
      "2\n",
      "4\n",
      "6\n",
      "8\n",
      "10\n",
      "12\n",
      "14\n",
      "16\n",
      "18\n",
      "20\n"
     ]
    }
   ],
   "source": [
    "try:\n",
    "    input_val = float(input('please input an integer: '))\n",
    "except ValueError:\n",
    "        print('You entered an invalid input, please try again')\n",
    "else:\n",
    "    even_odd(input_val)"
   ]
  },
  {
   "cell_type": "markdown",
   "metadata": {},
   "source": [
    "In Chapter 1, you learned how to find the roots of a quadratic equation,\n",
    "such as \n",
    "x2 + 2x + 1 = 0. We can turn this equation into a function by writing\n",
    "it as y = x2 + 2x + 1. For any value of x, the quadratic function produces some\n",
    "value for y. For example, when x = 1, y = 4. Here’s a program that calculates\n",
    "the value of y for six different values of x:\n",
    "'''\n",
    "Quadratic function calculator\n",
    "'''\n",
    "# Assume values of x\n",
    "u x_values = [-1, 1, 2, 3, 4, 5]\n",
    "v for x in x_values:\n",
    " # Calculate the value of the quadratic function\n",
    " y = x**2 + 2*x + 1\n",
    " print('x={0} y={1}'.format(x, y))\n",
    "At u, we create a list with six different values for x. The for loop starting at v calculates the value of the function above for each of these values\n",
    "and uses the label y to refer to the list of results. Next, we print the value of\n",
    "x and the corresponding value of y. When you run the program, you should\n",
    "see the following output:\n",
    "x=-1 y=0\n",
    "x=1 y=4\n",
    "x=2 y=9\n",
    "www.it-ebooks.info\u0000\n",
    "56 Chapter 2\n",
    "x=3 y=16\n",
    "x=4 y=25\n",
    "x=5 y=36\n",
    "Notice that the first line of the output is a root of the quadratic equation because it’s a value for x that makes the function equal to 0.\n",
    "Your programming challenge is to enhance this program to create\n",
    "a graph of the function. Try using at least 10 values for x instead of the 6\n",
    "above. Calculate the corresponding y values using the function and then\n",
    "create a graph using these two sets of values.\n",
    "Once you’ve created the graph, spend some time analyzing how the\n",
    "value of y varies with respect to x. Is the variation linear or nonlinear?"
   ]
  },
  {
   "cell_type": "code",
   "execution_count": 32,
   "metadata": {},
   "outputs": [],
   "source": [
    "import matplotlib.pyplot as plt"
   ]
  },
  {
   "cell_type": "code",
   "execution_count": 40,
   "metadata": {},
   "outputs": [
    {
     "data": {
      "image/png": "[encoded data removed]",
      "text/plain": [
       "<matplotlib.figure.Figure at 0x114a610b8>"
      ]
     },
     "metadata": {},
     "output_type": "display_data"
    }
   ],
   "source": [
    "mult = 10\n",
    "start_value = 6\n",
    "step = 3\n",
    "x_values = [x for x in range(start_value,start_value+mult*step+1,step)] #[-1, 1, 2, 3, 4, 5]\n",
    "y_values = []\n",
    "for x in x_values:\n",
    " # Calculate the value of the quadratic function\n",
    "    y_values.append(x**2 + 2*x + 1)\n",
    "    #print('x={0} y={1}'.format(x, y))\n",
    "plt.plot(x_values,y_values,marker='o')\n",
    "plt.axis(xmin=0,xmax=50,ymin=0,ymax=1500)\n",
    "plt.xlabel('Quadratic Input')\n",
    "plt.ylabel('Quadratic result')\n",
    "plt.title('Graph of the Quadratic Equation')\n",
    "plt.show();\n",
    "#Non linear relationship due to the exponent in the equation\n",
    "#as the input grows larger it will increase faster starting to see parabolic shape"
   ]
  },
  {
   "cell_type": "markdown",
   "metadata": {},
   "source": [
    "3. Implement a statistics calculator that takes a list of numbers in the file\n",
    "mydata.txt and then calculates and prints their mean, median, mode,\n",
    "variance, and standard deviation using the functions we wrote earlier in\n",
    "this chapter."
   ]
  },
  {
   "cell_type": "code",
   "execution_count": 159,
   "metadata": {},
   "outputs": [],
   "source": [
    "from collections import Counter"
   ]
  },
  {
   "cell_type": "code",
   "execution_count": 160,
   "metadata": {},
   "outputs": [],
   "source": [
    "def open_file(file):\n",
    "    with open(file) as f:\n",
    "        ls = f.readlines()\n",
    "        nums = [float(l) for l in ls]\n",
    "        return nums"
   ]
  },
  {
   "cell_type": "code",
   "execution_count": 161,
   "metadata": {},
   "outputs": [],
   "source": [
    "def calc_mean(numbers):\n",
    "    return sum(numbers)/len(numbers)"
   ]
  },
  {
   "cell_type": "code",
   "execution_count": 171,
   "metadata": {},
   "outputs": [],
   "source": [
    "def calc_median(numbers):\n",
    "    numbers.sort()\n",
    "    total = len(numbers)\n",
    "    if total % 2==0:\n",
    "        med_1 = int(total/2)-1\n",
    "        med_2 = int(total/2 + 1)-1\n",
    "        return calc_mean([med_1,med_2])\n",
    "    else:\n",
    "        return numbers[int((total+1)/2-1)]"
   ]
  },
  {
   "cell_type": "code",
   "execution_count": 163,
   "metadata": {},
   "outputs": [],
   "source": [
    "def calc_mode(numbers):\n",
    "    top_freq = Counter(numbers).most_common(1)[0][1]\n",
    "    top_vals = []\n",
    "    for num in Counter(numbers).most_common():\n",
    "        if num[1]==top_freq:\n",
    "             top_vals.append(num[0])\n",
    "    return top_vals"
   ]
  },
  {
   "cell_type": "code",
   "execution_count": 164,
   "metadata": {},
   "outputs": [],
   "source": [
    "def calc_variance(numbers):\n",
    "    return sum([(val-calc_mean(numbers))**2 for val in numbers])/len(numbers)"
   ]
  },
  {
   "cell_type": "code",
   "execution_count": 165,
   "metadata": {},
   "outputs": [],
   "source": [
    "def calc_std_dev(numbers):\n",
    "    return calc_variance(numbers)**(1/2)"
   ]
  },
  {
   "cell_type": "code",
   "execution_count": 170,
   "metadata": {},
   "outputs": [],
   "source": [
    "def stats_calc(file,manual:bool):\n",
    "    if manual:\n",
    "        data = file\n",
    "    else:\n",
    "        data = open_file(file)\n",
    "    print('Mean: ',calc_mean(data))\n",
    "    print('Median: ',calc_median(data))\n",
    "    print('Mode: ',calc_mode(data))\n",
    "    print('Variance:',calc_variance(data))\n",
    "    print('Standard Deviation: ' ,calc_std_dev(data))"
   ]
  },
  {
   "cell_type": "code",
   "execution_count": 173,
   "metadata": {},
   "outputs": [
    {
     "name": "stdout",
     "output_type": "stream",
     "text": [
      "Mean:  32.7\n",
      "Median:  4.5\n",
      "Mode:  [4]\n",
      "Variance: 700.2099999999999\n",
      "Standard Deviation:  26.461481440010118\n"
     ]
    }
   ],
   "source": [
    "test = [2,4,65,76,43,20,17,64,32,4]\n",
    "stats_calc(test,manual=True)"
   ]
  },
  {
   "cell_type": "markdown",
   "metadata": {},
   "source": [
    "#4: Solving Single-Variable Inequalities\n",
    "You’ve seen how to solve an equation using SymPy’s solve() function. But\n",
    "SymPy is also capable of solving single-variable inequalities, such as x + 5 > 3\n",
    "and sinx − 0.6 > 0. That is, SymPy can solve relations besides equality, like\n",
    ">, <, and so on. For this challenge, create a function, isolve(), that will take\n",
    "any inequality, solve it, and then return the solution.\n",
    "First, let’s learn about the SymPy functions that will help you implement this. The inequality-solving functions are available as three separate\n",
    "functions for polynomial, rational, and all other inequalities. We’ll need to\n",
    "pick the right function to solve various inequalities, or we’ll get an error.\n",
    "A polynomial is an algebraic expression consisting of a variable and\n",
    "coefficients and involving only the operations of addition, subtraction,\n",
    "and multiplication and only positive powers of the variable. An example\n",
    "of a polynomial inequality is x2\n",
    " + 4 < 0.\n",
    "To solve a polynomial inequality, use the solve_poly_inequality()\n",
    "function:"
   ]
  },
  {
   "cell_type": "code",
   "execution_count": 184,
   "metadata": {},
   "outputs": [],
   "source": [
    "from sympy import Poly, Symbol, solve_poly_inequality, solve_rational_inequalities\n",
    "from sympy import solve, solve_univariate_inequality, sin, sympify\n",
    "from sympy.core.sympify import SympifyError"
   ]
  },
  {
   "cell_type": "code",
   "execution_count": 179,
   "metadata": {},
   "outputs": [],
   "source": [
    "#polynomial inequalities\n",
    "def pol_inequal(inequality):\n",
    "    x = Symbol('x')\n",
    "    ineq_obj = inequality\n",
    "    lhs = ineq_obj.lhs\n",
    "    p = Poly(lhs, x)\n",
    "    rel = ineq_obj.rel_op\n",
    "    return solve_poly_inequality(p, rel)"
   ]
  },
  {
   "cell_type": "code",
   "execution_count": 180,
   "metadata": {},
   "outputs": [],
   "source": [
    "#rational inequalities\n",
    "def rat_inequal(inequality):\n",
    "    x = Symbol('x')\n",
    "    ineq_obj = inequality\n",
    "    lhs = ineq_obj.lhs\n",
    "    numer, denom = lhs.as_numer_denom()\n",
    "    p1 = Poly(numer)\n",
    "    p2 = Poly(denom)\n",
    "    rel = ineq_obj.rel_op\n",
    "    return solve_rational_inequalities([[((p1, p2), rel)]])"
   ]
  },
  {
   "cell_type": "code",
   "execution_count": 181,
   "metadata": {},
   "outputs": [],
   "source": [
    "def univariate_inequal(inequality):\n",
    "    x = Symbol('x')\n",
    "    ineq_obj = inequality\n",
    "    return solve_univariate_inequality(ineq_obj, x, relational=False)"
   ]
  },
  {
   "cell_type": "code",
   "execution_count": 182,
   "metadata": {},
   "outputs": [],
   "source": [
    "def isolve(inequality):\n",
    "    if inequality.is_polynomial():\n",
    "        print(pol_inequal(inequality))\n",
    "    elif inequality.is_rational_function():\n",
    "        print(rat_inequal(inequality))\n",
    "    else:\n",
    "        print(univariate_inequal(inequality))"
   ]
  },
  {
   "cell_type": "code",
   "execution_count": 201,
   "metadata": {},
   "outputs": [
    {
     "name": "stdout",
     "output_type": "stream",
     "text": [
      "Please provide an inequality equation using the variable x: x**2-x-4>0\n",
      "Union(Interval.open(-oo, -sqrt(17)/2 + 1/2), Interval.open(1/2 + sqrt(17)/2, oo))\n"
     ]
    }
   ],
   "source": [
    "ineq = input('Please provide an inequality equation using the variable x: ')\n",
    "\n",
    "if 'x' in ineq.lower() and ('<' in ineq or '>' in ineq) :\n",
    "    isolve(sympify(ineq))\n",
    "else:\n",
    "    print('Please provide a valid inequality using the variable \"x\"')"
   ]
  },
  {
   "cell_type": "markdown",
   "metadata": {},
   "source": [
    "#2: Law of Large Numbers\n",
    "We’ve referred to a die roll and coin toss as two examples of random events\n",
    "that we can simulate using random numbers. We’ve used the term event\n",
    "to refer to a certain number showing up on a die roll or to heads or tails\n",
    "showing up on a coin toss, with each event having an associated probability\n",
    "value. In probability, a random variable—usually denoted by X—describes\n",
    "an event. For example, X = 1 describes the event of 1 appearing upon a die\n",
    "roll, and P(X = 1) describes the associated probability. There are two kinds\n",
    "of random variables: (1) discrete random variables, which take only integral\n",
    "values and are the only kind of random variables we see in this chapter, and\n",
    "(2) continuous random variables, which—as the name suggests—can take\n",
    "any real value.\n",
    "The expectation, E, of a discrete random variable is the equivalent of the\n",
    "average or mean that we learned about in Chapter 3. The expectation can\n",
    "be calculated as follows:\n",
    "E = x1P(x1) + x2P(x2) + x3P(x3) + . . . + xnP(xn)\n",
    "Thus, for a six-sided die, the expected value of a die roll can be calculated\n",
    "like this:\n",
    ">>> e = 1*(1/6) + 2*(1/6) + 3*(1/6) + 4*(1/6) + 5*(1/6) + 6*(1/6)\n",
    ">>> e\n",
    "3.5\n",
    "www.it-ebooks.info\u0000\n",
    "144 Chapter 5\n",
    "According to the law of large numbers, the average value of results over\n",
    "multiple trials approaches the expected value as the number of trials\n",
    "increases. Your challenge in this task is to verify this law when rolling a\n",
    "six-sided die for the following number of trials: 100, 1000, 10000, 100000,\n",
    "and 500000. Here’s an expected sample run of your complete program:\n",
    "Expected value: 3.5\n",
    "Trials: 100 Trial average 3.39\n",
    "Trials: 1000 Trial average 3.576\n",
    "Trials: 10000 Trial average 3.5054\n",
    "Trials: 100000 Trial average 3.50201\n",
    "Trials: 500000 Trial average 3.495568\n",
    "p162/265 of pdf"
   ]
  },
  {
   "cell_type": "code",
   "execution_count": 115,
   "metadata": {},
   "outputs": [],
   "source": [
    "import random"
   ]
  },
  {
   "cell_type": "code",
   "execution_count": 144,
   "metadata": {},
   "outputs": [
    {
     "name": "stdout",
     "output_type": "stream",
     "text": [
      "Expected value: 3.5\n",
      "Trials: 100 Trial average 3.36\n",
      "Trials: 1000 Trial average 3.525\n",
      "Trials: 10000 Trial average 3.5158\n",
      "Trials: 100000 Trial average 3.50352\n",
      "Trials: 500000 Trial average 3.500782\n"
     ]
    }
   ],
   "source": [
    "print('Expected value: 3.5')\n",
    "trials = [100,1000,10000,100000,500000]\n",
    "for trial in trials:\n",
    "    sample = calc_mean([random.randint(1,6) for _ in range(0,trial)])\n",
    "    #rolls = []\n",
    "    #for _ in range(0,trial):\n",
    "    #    rolls.append(random.randint(1,6))\n",
    "    # load function from earlier cell\n",
    "    print(f'Trials: {trial} Trial average {sample}')"
   ]
  },
  {
   "cell_type": "markdown",
   "metadata": {},
   "source": [
    "#2: Implement the Gradient Descent\n",
    "The gradient descent method is used to find the minimum value of a function. Similar to the gradient ascent method, the gradient descent method is\n",
    "www.it-ebooks.info\n",
    "206 Chapter 7\n",
    "an iterative method: we start with an initial value of the variable and gradually get closer to the variable value that corresponds to the minimum value\n",
    "of the function. The step that gets us closer is the equation\n",
    "xnew = xold − λ df/dx ,\n",
    "where λ is the step size and\n",
    "is the result of differentiating the function. Thus, the only difference\n",
    "from the gradient ascent method is how we obtain the value of x_new from\n",
    "x_old.\n",
    "Your challenge is to implement a generic program using the gradient\n",
    "descent algorithm to find the minimum value of a single-variable function\n",
    "specified as input by the user. The program should also create a graph\n",
    "of the function and show all the intermediate values it found before finding the minimum. (You may want to refer to Figure 7-5 on page 193.)"
   ]
  },
  {
   "cell_type": "code",
   "execution_count": 145,
   "metadata": {},
   "outputs": [],
   "source": [
    "from sympy import Derivative, Symbol, sympify, solve\n",
    "import matplotlib.pyplot as plt"
   ]
  },
  {
   "cell_type": "code",
   "execution_count": 207,
   "metadata": {},
   "outputs": [],
   "source": [
    "def grad_descent(x0, f1x, x,vals):\n",
    " # Check if f1x=0 has a solution\n",
    "    if not solve(f1x):\n",
    "         print('Cannot continue, solution for {0}=0 does not exist'.format(f1x))\n",
    "    else:\n",
    "        epsilon = 1e-6\n",
    "        step_size = 1e-4\n",
    "        x_old = x0\n",
    "        x_new = x_old - step_size*f1x.subs({x:x_old}).evalf()\n",
    "        vals.append(x_new)\n",
    "        while abs(x_old - x_new) > epsilon:\n",
    "            x_old = x_new\n",
    "            x_new = x_old - step_size*f1x.subs({x:x_old}).evalf()\n",
    "            vals.append(x_new)\n",
    "        return x_new,vals"
   ]
  },
  {
   "cell_type": "code",
   "execution_count": 218,
   "metadata": {},
   "outputs": [
    {
     "name": "stdout",
     "output_type": "stream",
     "text": [
      "Enter a function in one variable: 4 * x**2 - x - 4\n",
      "Enter the variable to differentiate with respect to: x\n",
      "Enter the initial value of the variable: 4\n",
      "x: 0.126248926654750\n",
      "Minimum value: -4.06249376072884\n"
     ]
    },
    {
     "data": {
      "image/png": "[encoded data removed]",
      "text/plain": [
       "<matplotlib.figure.Figure at 0x1184f2278>"
      ]
     },
     "metadata": {},
     "output_type": "display_data"
    }
   ],
   "source": [
    "f = input('Enter a function in one variable: ')\n",
    "var = input('Enter the variable to differentiate with respect to: ')\n",
    "var0 = float(input('Enter the initial value of the variable: '))\n",
    "try:\n",
    "    f = sympify(f)\n",
    "\n",
    "except SympifyError:\n",
    "    print('Invalid function entered')\n",
    "\n",
    "else:\n",
    "    var = Symbol(var)\n",
    "    values = []\n",
    "    d = Derivative(f, var).doit()\n",
    "    var_min,x_coord = grad_descent(var0, d, var,values)\n",
    "    if var_min:\n",
    "        print(f'{var.name}: {var_min}')\n",
    "        print(f'Minimum value: {f.subs({var:var_min})}')\n",
    "        y_vals = [f.subs('x',i) for i in x_coord]\n",
    "        plt.plot(x_coord,y_vals,marker='x')\n",
    "        plt.xticks()\n",
    "        plt.axis(xmin=-7,xmax=7,ymin=-5,ymax=60)\n",
    "        plt.xlabel('X-new')\n",
    "        plt.ylabel('F(x)')\n",
    "        plt.title('Graph of Gradient Descent')\n",
    "        plt.show();\n",
    "#chose a simpler function with a clearer global minimum as I'm having issues modifying the function to reach beyond\n",
    "# local minima. Reading online that smoothing or Schocastic descent can sometimes help with these issues"
   ]
  },
  {
   "cell_type": "code",
   "execution_count": 198,
   "metadata": {},
   "outputs": [
    {
     "data": {
      "image/png": "[encoded data removed]",
      "text/plain": [
       "<matplotlib.figure.Figure at 0x115de2908>"
      ]
     },
     "metadata": {},
     "output_type": "display_data"
    },
    {
     "data": {
      "text/plain": [
       "<sympy.plotting.plot.Plot at 0x11771b7b8>"
      ]
     },
     "execution_count": 198,
     "metadata": {},
     "output_type": "execute_result"
    }
   ],
   "source": [
    "from sympy.plotting import plot\n",
    "from sympy import Symbol\n",
    "x = Symbol('x')\n",
    "plot(4*x**2 - 4)"
   ]
  },
  {
   "cell_type": "code",
   "execution_count": null,
   "metadata": {},
   "outputs": [],
   "source": []
  }
 ],
 "metadata": {
  "kernelspec": {
   "display_name": "Python 3",
   "language": "python",
   "name": "python3"
  },
  "language_info": {
   "codemirror_mode": {
    "name": "ipython",
    "version": 3
   },
   "file_extension": ".py",
   "mimetype": "text/x-python",
   "name": "python",
   "nbconvert_exporter": "python",
   "pygments_lexer": "ipython3",
   "version": "3.6.4"
  }
 },
 "nbformat": 4,
 "nbformat_minor": 2
}
